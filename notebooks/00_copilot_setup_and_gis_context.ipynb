{
  "cells": [
    {
      "cell_type": "markdown",
      "metadata": {},
      "source": [
        "# 🤖 GitHub Copilot Setup & GIS Context\n",
        "\n",
        "**Welcome to AI-Enhanced Learning for GIS Programming!**\n",
        "\n",
        "This notebook helps you set up GitHub Copilot and understand the GIS context for your pandas learning journey.\n",
        "\n",
        "## 🎯 What You'll Learn Here\n",
        "\n",
        "1. **How to activate and use GitHub Copilot** in Jupyter notebooks\n",
        "2. **GIS context** for pandas - why we use pandas for spatial data analysis\n",
        "3. **AI learning modes** - Ask, Agent, and Edit modes\n",
        "4. **Best practices** for learning programming with AI assistance\n",
        "\n",
        "## 🚨 **IMPORTANT: Your Learning Approach**\n",
        "\n",
        "**This assignment uses AI to ENHANCE your learning, not replace it:**\n",
        "\n",
        "- 🧠 **YOU decide the analysis approach** (what questions to ask, what data to explore)\n",
        "- 🤖 **AI helps with syntax and implementation** (how to write pandas code)\n",
        "- 📚 **YOU learn the concepts** (understanding what the code does and why)\n",
        "- 🔍 **YOU validate results** (making sure the analysis makes sense)\n",
        "\n",
        "---\n"
      ]
    },
    {
      "cell_type": "markdown",
      "metadata": {},
      "source": [
        "## 🔧 Step 1: Activate GitHub Copilot\n",
        "\n",
        "**Check if Copilot is working in your environment:**\n"
      ]
    },
    {
      "cell_type": "code",
      "execution_count": null,
      "metadata": {},
      "outputs": [],
      "source": [
        "# Test if GitHub Copilot is active\n",
        "# Type a comment like \"create a list of GIS file formats\" and see if Copilot suggests code\n",
        "# Try: create a list of common GIS file formats\n",
        "gis_formats = [\"shapefile\", \"geojson\", \"kml\", \"gpx\", \"csv\"]\n",
        "\n",
        "print(\"✅ If you see code suggestions as you type comments, Copilot is working!\")\n",
        "print(f\"📊 GIS formats: {gis_formats}\")\n"
      ]
    },
    {
      "cell_type": "markdown",
      "metadata": {},
      "source": [
        "## 🎓 Step 2: Understanding the Three Copilot Modes\n",
        "\n",
        "### 💬 **ASK Mode** - Get Explanations\n",
        "- **Purpose**: Ask questions about concepts, methods, and approaches\n",
        "- **How to use**: Open Copilot Chat panel, ask specific questions\n",
        "- **Example Questions**:\n",
        "  - \"What is the difference between pandas merge and join?\"\n",
        "  - \"How do I filter rows in pandas based on multiple conditions?\"\n",
        "  - \"What does groupby do in pandas and when would I use it?\"\n",
        "\n",
        "### 🤖 **AGENT Mode** - Get Code Suggestions  \n",
        "- **Purpose**: Get code completion as you type\n",
        "- **How to use**: Type comments or start code, accept/reject suggestions with Tab/Esc\n",
        "- **Example**: Type `# load csv file with pandas` and see what Copilot suggests\n",
        "\n",
        "### ✏️ **EDIT Mode** - Improve Existing Code\n",
        "- **Purpose**: Refactor, optimize, or fix existing code\n",
        "- **How to use**: Select code, right-click → \"Copilot\" → \"Start Inline Chat\" or use `Ctrl+I`\n",
        "- **Example**: Select basic code and ask \"make this more efficient\" or \"add error handling\"\n"
      ]
    },
    {
      "cell_type": "markdown",
      "metadata": {},
      "source": [
        "## 🌍 Step 3: GIS Context - Why Pandas for Spatial Data?\n",
        "\n",
        "**Understanding the role of pandas in GIS workflows:**\n",
        "\n",
        "### **📊 What Pandas Does in GIS:**\n",
        "- **Tabular Data Processing**: Weather station data, sensor readings, attribute tables\n",
        "- **Data Cleaning**: Remove invalid coordinates, filter by quality flags\n",
        "- **Statistical Analysis**: Calculate temperature averages, precipitation totals\n",
        "- **Data Joining**: Combine location data with measurement data\n",
        "- **Temporal Analysis**: Analyze trends over time periods\n",
        "\n",
        "### **🔗 How Pandas Connects to Other GIS Tools:**\n",
        "```\n",
        "Raw Data (CSV) → pandas (clean/analyze) → GeoPandas (spatial operations) → Maps/Visualizations\n",
        "```\n",
        "\n",
        "### **🎯 Your Learning Journey:**\n",
        "1. **This Assignment**: Master pandas for tabular GIS data\n",
        "2. **Next Assignments**: Learn GeoPandas for spatial operations\n",
        "3. **Final Projects**: Combine both for complete GIS workflows\n",
        "\n",
        "---\n",
        "\n",
        "## 🚀 Ready to Start!\n",
        "\n",
        "**Next Steps:**\n",
        "1. **Start with**: `01_function_load_and_explore_gis_data.ipynb`\n",
        "2. **Use all three Copilot modes** as you learn each function\n",
        "3. **Remember**: Learn in notebooks → Copy to `src/pandas_basics.py` → Test with pytest\n",
        "\n",
        "**Good luck with your AI-enhanced GIS learning! 🎉**\n"
      ]
    },
    {
      "cell_type": "markdown",
      "metadata": {},
      "source": [
        "\n"
      ]
    }
  ],
  "metadata": {
    "language_info": {
      "name": "python"
    }
  },
  "nbformat": 4,
  "nbformat_minor": 2
}
