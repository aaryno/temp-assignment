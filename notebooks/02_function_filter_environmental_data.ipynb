{
 "cells": [
  {
   "cell_type": "markdown",
   "metadata": {},
   "source": [
    "# Function 2: Filter Environmental Data 🔍\n",
    "\n",
    "**Welcome to data filtering with pandas!**\n",
    "\n",
    "In this notebook, you'll learn how to build the `filter_environmental_data()` function step by step. This is like applying filters in Excel to show only the data that meets certain conditions.\n",
    "\n",
    "## 🎯 What This Function Does\n",
    "- Filters temperature readings to show only data within a specified range\n",
    "- Filters by data quality to exclude poor quality measurements\n",
    "- Reports how many rows were kept vs. removed\n",
    "- Returns the filtered DataFrame for further analysis\n",
    "\n",
    "## 🔧 Function Signature\n",
    "```python\n",
    "def filter_environmental_data(df, min_temp=15, max_temp=30, quality=\"good\"):\n",
    "    \"\"\"\n",
    "    Args:\n",
    "        df (pandas.DataFrame): The environmental data to filter\n",
    "        min_temp (float): Minimum temperature threshold (default: 15°C)\n",
    "        max_temp (float): Maximum temperature threshold (default: 30°C)\n",
    "        quality (str): Required data quality level (default: \"good\")\n",
    "    \n",
    "    Returns:\n",
    "        pandas.DataFrame: Filtered data meeting all conditions\n",
    "    \"\"\"\n",
    "```"
   ]
  },
  {
   "cell_type": "markdown",
   "metadata": {},
   "source": [
    "## 🚀 Step 1: Import Libraries and Load Data\n",
    "\n",
    "First, let's set up our environment and load the temperature readings data:"
   ]
  },
  {
   "cell_type": "code",
   "execution_count": null,
   "metadata": {},
   "outputs": [],
   "source": [
    "import pandas as pd\n",
    "import numpy as np\n",
    "import os\n",
    "\n",
    "print(f\"✅ Pandas version: {pd.__version__}\")\n",
    "print(\"🔍 Ready to filter data!\")"
   ]
  },
  {
   "cell_type": "code",
   "execution_count": null,
   "metadata": {},
   "outputs": [],
   "source": [
    "# Load the temperature readings data\n",
    "file_path = '../data/temperature_readings.csv'\n",
    "df = pd.read_csv(file_path)\n",
    "\n",
    "print(f\"📊 Loaded {len(df)} temperature readings\")\n",
    "print(f\"📋 Columns: {list(df.columns)}\")\n",
    "print(\"\\n🔍 First 5 rows:\")\n",
    "display(df.head())"
   ]
  },
  {
   "cell_type": "markdown",
   "metadata": {},
   "source": [
    "## 📊 Step 2: Understanding Your Data Before Filtering\n",
    "\n",
    "Before filtering, let's understand what we're working with:"
   ]
  },
  {
   "cell_type": "code",
   "execution_count": null,
   "metadata": {},
   "outputs": [],
   "source": [
    "# Explore the temperature range\n",
    "print(\"🌡️  TEMPERATURE ANALYSIS:\")\n",
    "print(f\"   Minimum temperature: {df['temperature_c'].min()}°C\")\n",
    "print(f\"   Maximum temperature: {df['temperature_c'].max()}°C\")\n",
    "print(f\"   Average temperature: {df['temperature_c'].mean():.1f}°C\")\n",
    "print(f\"   Temperature range: {df['temperature_c'].max() - df['temperature_c'].min()}°C\")\n",
    "\n",
    "print(\"\\n📈 Temperature distribution:\")\n",
    "print(df['temperature_c'].describe())"
   ]
  },
  {
   "cell_type": "code",
   "execution_count": null,
   "metadata": {},
   "outputs": [],
   "source": [
    "# Explore data quality values\n",
    "print(\"🏷️  DATA QUALITY ANALYSIS:\")\n",
    "quality_counts = df['data_quality'].value_counts()\n",
    "print(quality_counts)\n",
    "\n",
    "print(\"\\n📊 Quality percentages:\")\n",
    "quality_pct = df['data_quality'].value_counts(normalize=True) * 100\n",
    "for quality, pct in quality_pct.items():\n",
    "    print(f\"   {quality}: {pct:.1f}%\")"
   ]
  },
  {
   "cell_type": "markdown",
   "metadata": {},
   "source": [
    "## 🔍 Step 3: Basic Filtering - Single Condition\n",
    "\n",
    "Let's start with simple filtering using a single condition:"
   ]
  },
  {
   "cell_type": "code",
   "execution_count": null,
   "metadata": {},
   "outputs": [],
   "source": [
    "# Filter 1: Show only temperatures above 20°C\n",
    "hot_temps = df[df['temperature_c'] > 20]\n",
    "\n",
    "print(f\"🌡️  Original data: {len(df)} rows\")\n",
    "print(f\"🔥 Temperatures > 20°C: {len(hot_temps)} rows\")\n",
    "print(f\"📉 Removed: {len(df) - len(hot_temps)} rows ({(len(df) - len(hot_temps))/len(df)*100:.1f}%)\")\n",
    "\n",
    "print(\"\\n🔍 Sample of filtered data:\")\n",
    "display(hot_temps.head(3))"
   ]
  },
  {
   "cell_type": "code",
   "execution_count": null,
   "metadata": {},
   "outputs": [],
   "source": [
    "# Filter 2: Show only \"good\" quality data\n",
    "good_quality = df[df['data_quality'] == 'good']\n",
    "\n",
    "print(f\"📊 Original data: {len(df)} rows\")\n",
    "print(f\"✅ Good quality data: {len(good_quality)} rows\")\n",
    "print(f\"📉 Removed: {len(df) - len(good_quality)} rows ({(len(df) - len(good_quality))/len(df)*100:.1f}%)\")\n",
    "\n",
    "print(\"\\n🔍 Quality distribution in filtered data:\")\n",
    "print(good_quality['data_quality'].value_counts())"
   ]
  },
  {
   "cell_type": "markdown",
   "metadata": {},
   "source": [
    "## 🔗 Step 4: Advanced Filtering - Multiple Conditions\n",
    "\n",
    "Now let's combine multiple conditions using `&` (AND) and `|` (OR) operators:"
   ]
  },
  {
   "cell_type": "code",
   "execution_count": null,
   "metadata": {},
   "outputs": [],
   "source": [
    "# Multiple conditions with AND (&)\n",
    "# Show data where temperature is between 15-30°C AND quality is \"good\"\n",
    "\n",
    "# Note: When combining conditions, each condition needs parentheses!\n",
    "filtered_data = df[\n",
    "    (df['temperature_c'] >= 15) & \n",
    "    (df['temperature_c'] <= 30) & \n",
    "    (df['data_quality'] == 'good')\n",
    "]\n",
    "\n",
    "print(f\"📊 Original data: {len(df)} rows\")\n",
    "print(f\"✅ Filtered data: {len(filtered_data)} rows\")\n",
    "print(f\"📉 Removed: {len(df) - len(filtered_data)} rows ({(len(df) - len(filtered_data))/len(df)*100:.1f}%)\")\n",
    "\n",
    "print(\"\\n🌡️  Temperature range in filtered data:\")\n",
    "print(f\"   Min: {filtered_data['temperature_c'].min()}°C\")\n",
    "print(f\"   Max: {filtered_data['temperature_c'].max()}°C\")\n",
    "print(f\"   Avg: {filtered_data['temperature_c'].mean():.1f}°C\")"
   ]
  },
  {
   "cell_type": "markdown",
   "metadata": {},
   "source": [
    "## 💡 Step 5: Understanding Boolean Indexing\n",
    "\n",
    "Let's understand how pandas filtering actually works behind the scenes:"
   ]
  },
  {
   "cell_type": "code",
   "execution_count": null,
   "metadata": {},
   "outputs": [],
   "source": [
    "# Create a small sample to understand boolean indexing\n",
    "sample_df = df.head(10).copy()\n",
    "\n",
    "print(\"🔍 Sample data:\")\n",
    "display(sample_df[['station_id', 'temperature_c', 'data_quality']])\n",
    "\n",
    "print(\"\\n🔢 Boolean mask for temperature > 20:\")\n",
    "temp_mask = sample_df['temperature_c'] > 20\n",
    "print(temp_mask)\n",
    "\n",
    "print(\"\\n✅ Rows where temperature > 20:\")\n",
    "display(sample_df[temp_mask][['station_id', 'temperature_c', 'data_quality']])"
   ]
  },
  {
   "cell_type": "markdown",
   "metadata": {},
   "source": [
    "## 📝 Step 6: Building Helper Functions\n",
    "\n",
    "Let's create some helper functions to make our filtering more readable:"
   ]
  },
  {
   "cell_type": "code",
   "execution_count": null,
   "metadata": {},
   "outputs": [],
   "source": [
    "def show_filtering_stats(original_df, filtered_df, description=\"\"):\n",
    "    \"\"\"\n",
    "    Display statistics about the filtering operation.\n",
    "    \"\"\"\n",
    "    original_count = len(original_df)\n",
    "    filtered_count = len(filtered_df)\n",
    "    removed_count = original_count - filtered_count\n",
    "    removed_pct = (removed_count / original_count) * 100 if original_count > 0 else 0\n",
    "    \n",
    "    print(f\"📊 {description}\")\n",
    "    print(f\"   Original dataset: {original_count} rows\")\n",
    "    print(f\"   After filtering: {filtered_count} rows kept\")\n",
    "    print(f\"   Removed: {removed_count} rows ({removed_pct:.1f}%)\")\n",
    "\n",
    "# Test our helper function\n",
    "test_filtered = df[df['temperature_c'] > 25]\n",
    "show_filtering_stats(df, test_filtered, \"Testing helper function - temp > 25°C\")"
   ]
  },
  {
   "cell_type": "markdown",
   "metadata": {},
   "source": [
    "## 🎛️ Step 7: Flexible Filtering with Parameters\n",
    "\n",
    "Now let's create a flexible filtering function that accepts parameters:"
   ]
  },
  {
   "cell_type": "code",
   "execution_count": null,
   "metadata": {},
   "outputs": [],
   "source": [
    "def filter_by_temperature_range(df, min_temp, max_temp):\n",
    "    \"\"\"\n",
    "    Filter DataFrame to show only temperatures within the specified range.\n",
    "    \"\"\"\n",
    "    filtered = df[(df['temperature_c'] >= min_temp) & (df['temperature_c'] <= max_temp)]\n",
    "    \n",
    "    print(f\"🌡️  Temperature filter: {min_temp}°C to {max_temp}°C\")\n",
    "    show_filtering_stats(df, filtered, \"Temperature range filtering\")\n",
    "    \n",
    "    return filtered\n",
    "\n",
    "# Test with different temperature ranges\n",
    "print(\"🧪 TESTING DIFFERENT TEMPERATURE RANGES:\\n\")\n",
    "\n",
    "# Test 1: Conservative range\n",
    "result1 = filter_by_temperature_range(df, 18, 25)\n",
    "print()\n",
    "\n",
    "# Test 2: Wider range\n",
    "result2 = filter_by_temperature_range(df, 10, 35)\n",
    "print()\n",
    "\n",
    "# Test 3: Narrow range\n",
    "result3 = filter_by_temperature_range(df, 20, 22)"
   ]
  },
  {
   "cell_type": "markdown",
   "metadata": {},
   "source": [
    "## 🏷️ Step 8: Quality-Based Filtering\n",
    "\n",
    "Let's create a function to filter by data quality:"
   ]
  },
  {
   "cell_type": "code",
   "execution_count": null,
   "metadata": {},
   "outputs": [],
   "source": [
    "def filter_by_quality(df, quality_level):\n",
    "    \"\"\"\n",
    "    Filter DataFrame to show only data with the specified quality level.\n",
    "    \"\"\"\n",
    "    # Check if the quality level exists in the data\n",
    "    available_qualities = df['data_quality'].unique()\n",
    "    \n",
    "    if quality_level not in available_qualities:\n",
    "        print(f\"⚠️  Warning: Quality level '{quality_level}' not found in data\")\n",
    "        print(f\"📋 Available quality levels: {list(available_qualities)}\")\n",
    "        return df.copy()  # Return original data if quality not found\n",
    "    \n",
    "    filtered = df[df['data_quality'] == quality_level]\n",
    "    \n",
    "    print(f\"🏷️  Quality filter: '{quality_level}' only\")\n",
    "    show_filtering_stats(df, filtered, f\"Quality filtering for '{quality_level}'\")\n",
    "    \n",
    "    return filtered\n",
    "\n",
    "# Test quality filtering\n",
    "print(\"🧪 TESTING QUALITY FILTERING:\\n\")\n",
    "\n",
    "# Test with good quality\n",
    "good_data = filter_by_quality(df, \"good\")\n",
    "print()\n",
    "\n",
    "# Test with fair quality\n",
    "fair_data = filter_by_quality(df, \"fair\")\n",
    "print()\n",
    "\n",
    "# Test with invalid quality\n",
    "invalid_data = filter_by_quality(df, \"excellent\")"
   ]
  },
  {
   "cell_type": "markdown",
   "metadata": {},
   "source": [
    "## 🏗️ Step 9: Building the Complete Function\n",
    "\n",
    "Now let's combine everything into the complete `filter_environmental_data()` function:"
   ]
  },
  {
   "cell_type": "code",
   "execution_count": null,
   "metadata": {},
   "outputs": [],
   "source": [
    "def filter_environmental_data(df, min_temp=15, max_temp=30, quality=\"good\"):\n",
    "    \"\"\"\n",
    "    Filter environmental data based on temperature range and data quality.\n",
    "    \n",
    "    This function demonstrates how to apply multiple filtering conditions\n",
    "    to clean and prepare environmental data for analysis.\n",
    "    \n",
    "    Args:\n",
    "        df (pandas.DataFrame): Environmental data with temperature and quality columns\n",
    "        min_temp (float): Minimum acceptable temperature in Celsius (default: 15)\n",
    "        max_temp (float): Maximum acceptable temperature in Celsius (default: 30)\n",
    "        quality (str): Required data quality level (default: \"good\")\n",
    "        \n",
    "    Returns:\n",
    "        pandas.DataFrame: Filtered data meeting all specified conditions\n",
    "    \"\"\"\n",
    "    \n",
    "    print(\"=\" * 50)\n",
    "    print(\"FILTERING ENVIRONMENTAL DATA\")\n",
    "    print(\"=\" * 50)\n",
    "    \n",
    "    # Input validation\n",
    "    if df is None or df.empty:\n",
    "        print(\"❌ ERROR: Empty or None DataFrame provided\")\n",
    "        return pd.DataFrame()\n",
    "    \n",
    "    # Check for required columns\n",
    "    required_columns = ['temperature_c', 'data_quality']\n",
    "    missing_columns = [col for col in required_columns if col not in df.columns]\n",
    "    \n",
    "    if missing_columns:\n",
    "        print(f\"❌ ERROR: Missing required columns: {missing_columns}\")\n",
    "        print(f\"📋 Available columns: {list(df.columns)}\")\n",
    "        return pd.DataFrame()\n",
    "    \n",
    "    original_count = len(df)\n",
    "    print(f\"📊 Starting with {original_count} rows of environmental data\")\n",
    "    \n",
    "    # Show filtering criteria\n",
    "    print(f\"\\n🎯 FILTERING CRITERIA:\")\n",
    "    print(f\"   Temperature range: {min_temp}°C to {max_temp}°C\")\n",
    "    print(f\"   Data quality: '{quality}'\")\n",
    "    \n",
    "    # Check if quality level exists\n",
    "    available_qualities = df['data_quality'].unique()\n",
    "    if quality not in available_qualities:\n",
    "        print(f\"\\n⚠️  WARNING: Quality level '{quality}' not found in data\")\n",
    "        print(f\"📋 Available quality levels: {list(available_qualities)}\")\n",
    "        print(\"🔄 Returning original data without quality filtering...\")\n",
    "        quality_filter = pd.Series([True] * len(df))  # No filtering\n",
    "    else:\n",
    "        quality_filter = df['data_quality'] == quality\n",
    "    \n",
    "    # Apply all filters\n",
    "    print(f\"\\n🔍 APPLYING FILTERS...\")\n",
    "    \n",
    "    # Temperature range filter\n",
    "    temp_filter = (df['temperature_c'] >= min_temp) & (df['temperature_c'] <= max_temp)\n",
    "    temp_filtered_count = temp_filter.sum()\n",
    "    temp_removed = original_count - temp_filtered_count\n",
    "    print(f\"   🌡️  Temperature filter: kept {temp_filtered_count}, removed {temp_removed} rows\")\n",
    "    \n",
    "    # Quality filter\n",
    "    quality_filtered_count = quality_filter.sum()\n",
    "    quality_removed = original_count - quality_filtered_count\n",
    "    print(f\"   🏷️  Quality filter: kept {quality_filtered_count}, removed {quality_removed} rows\")\n",
    "    \n",
    "    # Combined filter\n",
    "    combined_filter = temp_filter & quality_filter\n",
    "    filtered_df = df[combined_filter].copy()\n",
    "    \n",
    "    final_count = len(filtered_df)\n",
    "    total_removed = original_count - final_count\n",
    "    removal_pct = (total_removed / original_count) * 100 if original_count > 0 else 0\n",
    "    \n",
    "    print(f\"\\n📈 FILTERING RESULTS:\")\n",
    "    print(f\"   Original dataset: {original_count} rows\")\n",
    "    print(f\"   After filtering: {final_count} rows kept\")\n",
    "    print(f\"   Total removed: {total_removed} rows ({removal_pct:.1f}%)\")\n",
    "    \n",
    "    # Show statistics of filtered data\n",
    "    if not filtered_df.empty:\n",
    "        print(f\"\\n📊 FILTERED DATA SUMMARY:\")\n",
    "        print(f\"   Temperature range: {filtered_df['temperature_c'].min():.1f}°C to {filtered_df['temperature_c'].max():.1f}°C\")\n",
    "        print(f\"   Average temperature: {filtered_df['temperature_c'].mean():.1f}°C\")\n",
    "        print(f\"   Quality distribution: {dict(filtered_df['data_quality'].value_counts())}\")\n",
    "    else:\n",
    "        print(f\"\\n⚠️  WARNING: No data remains after filtering!\")\n",
    "        print(f\"   Consider relaxing your filtering criteria.\")\n",
    "    \n",
    "    print(f\"\\n✅ Filtering complete! Ready for analysis.\")\n",
    "    \n",
    "    return filtered_df"
   ]
  },
  {
   "cell_type": "markdown",
   "metadata": {},
   "source": [
    "## ✨ Step 10: Test Your Complete Function\n",
    "\n",
    "Let's test our complete function with different scenarios:"
   ]
  },
  {
   "cell_type": "code",
   "execution_count": null,
   "metadata": {},
   "outputs": [],
   "source": [
    "# Test 1: Default parameters\n",
    "print(\"🧪 TEST 1: DEFAULT PARAMETERS\\n\")\n",
    "result1 = filter_environmental_data(df)\n",
    "print(f\"\\n📋 Sample of filtered data:\")\n",
    "display(result1.head(3))"
   ]
  },
  {
   "cell_type": "code",
   "execution_count": null,
   "metadata": {},
   "outputs": [],
   "source": [
    "# Test 2: Custom temperature range\n",
    "print(\"\\n\" + \"=\"*80 + \"\\n\")\n",
    "print(\"🧪 TEST 2: CUSTOM TEMPERATURE RANGE (10-35°C)\\n\")\n",
    "result2 = filter_environmental_data(df, min_temp=10, max_temp=35, quality=\"good\")"
   ]
  },
  {
   "cell_type": "code",
   "execution_count": null,
   "metadata": {},
   "outputs": [],
   "source": [
    "# Test 3: Different quality level\n",
    "print(\"\\n\" + \"=\"*80 + \"\\n\")\n",
    "print(\"🧪 TEST 3: FAIR QUALITY DATA\\n\")\n",
    "result3 = filter_environmental_data(df, min_temp=15, max_temp=30, quality=\"fair\")"
   ]
  },
  {
   "cell_type": "code",
   "execution_count": null,
   "metadata": {},
   "outputs": [],
   "source": [
    "# Test 4: Very strict filtering\n",
    "print(\"\\n\" + \"=\"*80 + \"\\n\")\n",
    "print(\"🧪 TEST 4: VERY STRICT FILTERING (20-22°C, good quality)\\n\")\n",
    "result4 = filter_environmental_data(df, min_temp=20, max_temp=22, quality=\"good\")"
   ]
  },
  {
   "cell_type": "code",
   "execution_count": null,
   "metadata": {},
   "outputs": [],
   "source": [
    "# Test 5: Error handling - invalid quality\n",
    "print(\"\\n\" + \"=\"*80 + \"\\n\")\n",
    "print(\"🧪 TEST 5: ERROR HANDLING - Invalid Quality\\n\")\n",
    "result5 = filter_environmental_data(df, min_temp=15, max_temp=30, quality=\"excellent\")"
   ]
  },
  {
   "cell_type": "code",
   "execution_count": null,
   "metadata": {},
   "outputs": [],
   "source": [
    "# Test 6: Error handling - empty DataFrame\n",
    "print(\"\\n\" + \"=\"*80 + \"\\n\")\n",
    "print(\"🧪 TEST 6: ERROR HANDLING - Empty DataFrame\\n\")\n",
    "empty_df = pd.DataFrame()\n",
    "result6 = filter_environmental_data(empty_df)"
   ]
  },
  {
   "cell_type": "markdown",
   "metadata": {},
   "source": [
    "## 🎯 Your Assignment Task\n",
    "\n",
    "Now that you understand how this function works:\n",
    "\n",
    "1. **Go to `src/pandas_basics.py`**\n",
    "2. **Find the `filter_environmental_data()` function**\n",
    "3. **Replace the TODO comments with your implementation**\n",
    "4. **Test your function with pytest**:\n",
    "\n",
    "```bash\n",
    "# Test just this function\n",
    "uv run pytest tests/test_pandas_basics.py::test_filter_environmental_data -v\n",
    "\n",
    "# Test all functions so far\n",
    "uv run pytest tests/ -v\n",
    "```\n",
    "\n",
    "## 🔑 Key Learning Points\n",
    "\n",
    "- **Boolean indexing**: `df[df['column'] > value]` creates filtered DataFrames\n",
    "- **Multiple conditions**: Use `&` (AND) and `|` (OR) with parentheses: `(condition1) & (condition2)`\n",
    "- **Parameter defaults**: Make functions flexible with default parameter values\n",
    "- **Input validation**: Always check if required columns exist and data is valid\n",
    "- **Informative output**: Tell users what filters were applied and how much data was removed\n",
    "- **Error handling**: Handle edge cases like missing quality levels or empty DataFrames\n",
    "\n",
    "## 📚 Common Filtering Patterns\n",
    "\n",
    "```python\n",
    "# Single condition\n",
    "df[df['temperature'] > 20]\n",
    "\n",
    "# Multiple conditions (AND)\n",
    "df[(df['temp'] > 15) & (df['temp'] < 30)]\n",
    "\n",
    "# Multiple conditions (OR)\n",
    "df[(df['quality'] == 'good') | (df['quality'] == 'fair')]\n",
    "\n",
    "# String operations\n",
    "df[df['station_name'].str.contains('Central')]\n",
    "\n",
    "# Negation (NOT)\n",
    "df[~(df['quality'] == 'poor')]\n",
    "```\n",
    "\n",
    "## 🚀 Next Steps\n",
    "\n",
    "Once this function works and passes the tests, move on to:\n",
    "- **Function 3**: `calculate_station_statistics()` - Learn to group data and calculate statistics\n",
    "- **Function 4**: `join_station_data()` - Learn to combine multiple datasets\n",
    "- **Function 5**: `save_processed_data()` - Learn to save your filtered results\n",
    "\n",
    "**Great job learning data filtering! 🎉**"
   ]
  }
 ],
 "metadata": {
  "kernelspec": {
   "display_name": "Python 3",
   "language": "python",
   "name": "python3"
  },
  "language_info": {
   "codemirror_mode": {
    "name": "ipython",
    "version": 3
   },
   "file_extension": ".py",
   "mimetype": "text/x-python",
   "name": "python",
   "nbconvert_exporter": "python",
   "pygments_lexer": "ipython3",
   "version": "3.9.6"
  }
 },
 "nbformat": 4,
 "nbformat_minor": 4
}
